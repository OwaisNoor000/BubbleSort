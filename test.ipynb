{
 "cells": [
  {
   "cell_type": "code",
   "execution_count": null,
   "id": "204b0025",
   "metadata": {},
   "outputs": [],
   "source": [
    "from rag.engines.GithubEngine import GithubEngine\n",
    "\n",
    "query_engine = GithubEngine()\n",
    "engine_ref = query_engine._create_nonstreaming_engine()\n",
    "# response = query_engine.answer(\"What does Batch.py do? and also, how many preprocessed pages does the book Jip&Janneke have?\")\n",
    "# print(response)\n"
   ]
  },
  {
   "cell_type": "code",
   "execution_count": null,
   "id": "2c4c22f9",
   "metadata": {},
   "outputs": [],
   "source": [
    "response = engine_ref.query(\"Explain the code websockets code\")\n",
    "response"
   ]
  },
  {
   "cell_type": "code",
   "execution_count": null,
   "id": "4f37a6ae",
   "metadata": {},
   "outputs": [],
   "source": [
    "print(response)"
   ]
  },
  {
   "cell_type": "code",
   "execution_count": null,
   "id": "4669300e",
   "metadata": {},
   "outputs": [],
   "source": [
    "import logging\n",
    "import sys\n",
    "import pickle\n",
    "import os\n",
    "import nest_asyncio\n",
    "\n",
    "nest_asyncio.apply()\n",
    "logging.basicConfig(stream=sys.stdout, level=logging.INFO)\n",
    "logging.getLogger().addHandler(logging.StreamHandler(stream=sys.stdout))\n",
    "\n"
   ]
  },
  {
   "cell_type": "code",
   "execution_count": null,
   "id": "55b22f2d",
   "metadata": {},
   "outputs": [],
   "source": [
    "from llama_index import download_loader, GPTVectorStoreIndex\n",
    "download_loader(\"GithubRepositoryReader\")\n",
    "\n",
    "\n",
    "from llama_index.readers.github import GithubRepositoryReader,GithubClient\n",
    "github_client = GithubClient(os.getenv(\"GITHUB_TOKEN\"))\n",
    "\n",
    "from llama_index.core import Settings\n",
    "from llama_index.llms.ollama import Ollama\n",
    "\n",
    "Settings.llm = Ollama(model=\"llama3.2:3b\",request_timeout=120.0,context_window=8000)\n"
   ]
  },
  {
   "cell_type": "code",
   "execution_count": null,
   "id": "00a2b305",
   "metadata": {},
   "outputs": [],
   "source": [
    "class Repo:\n",
    "    def __init__(self, **kwargs):\n",
    "        self.owner = kwargs['owner']\n",
    "        self.name = kwargs['name']\n",
    "        self.inc_dir = kwargs['inc_dir']\n",
    "        self.inc_ext = kwargs['inc_ext']\n",
    "        self.docs = None\n",
    "        self.index = None\n",
    "        self.query_engine = None\n",
    "\n",
    "        try:\n",
    "            self.branch = kwargs['branch']\n",
    "        except KeyError:\n",
    "            try:\n",
    "                self.commit_sha = kwargs['commit_sha']\n",
    "            except KeyError:\n",
    "                raise KeyError(\"Must specify a branch or sha_commit\")\n",
    "\n",
    "    def load(self, force_reload=False, verbose=True, \n",
    "             concurrent_requests=10,\n",
    "             persist_dir='./data/gitrepo'):\n",
    "        self.pkl_file = f\"{persist_dir}/{self.owner}_{self.name}.pkl\"\n",
    "\n",
    "        if not os.path.exists(persist_dir):\n",
    "            os.makedirs(persist_dir)\n",
    "\n",
    "        if force_reload:\n",
    "            self._reload(verbose, concurrent_requests)\n",
    "        else: \n",
    "            try:\n",
    "                self._load_pkl()\n",
    "            except:\n",
    "                self._reload(verbose, concurrent_requests)\n",
    "\n",
    "    def _reload(self, verbose, concurrent_requests):\n",
    "        if os.path.exists(self.pkl_file):\n",
    "            os.remove(self.pkl_file)\n",
    "        self._load_gh(verbose, concurrent_requests)\n",
    "        self._persist_pkl()\n",
    "\n",
    "    def _persist_pkl(self):\n",
    "        with open(self.pkl_file, \"wb\") as f:\n",
    "            pickle.dump(self.docs, f)\n",
    "\n",
    "    def _load_pkl(self):\n",
    "        with open(self.pkl_file, \"rb\") as f:\n",
    "            self.docs = pickle.load(f)\n",
    "\n",
    "    def _load_gh(self, verbose, concurrent_requests):\n",
    "        loader = GithubRepositoryReader(\n",
    "            github_client,\n",
    "            owner=self.owner,\n",
    "            repo=self.name,\n",
    "            filter_directories=(\n",
    "                self.inc_dir,\n",
    "                GithubRepositoryReader.FilterType.INCLUDE\n",
    "                ),\n",
    "            filter_file_extensions=(\n",
    "                self.inc_ext, \n",
    "                GithubRepositoryReader.FilterType.INCLUDE\n",
    "                ),\n",
    "            verbose=verbose,\n",
    "            concurrent_requests=concurrent_requests,\n",
    "        )\n",
    "        if self.branch:\n",
    "            self.docs = loader.load_data(branch=self.branch)\n",
    "        else: \n",
    "            self.docs = loader.load_data(commit_sha=self.commit_sha)\n",
    "\n",
    "    def query(self, query):\n",
    "        if self.query_engine is None:\n",
    "            self._init_query()\n",
    "        return str(self.query_engine.query(query))\n",
    "\n",
    "    def _init_query(self):\n",
    "        if self.docs is None: \n",
    "            self.load()\n",
    "        self.index = GPTVectorStoreIndex.from_documents(self.docs)\n",
    "        self.query_engine = self.index.as_query_engine()"
   ]
  },
  {
   "cell_type": "code",
   "execution_count": null,
   "id": "fe333f03",
   "metadata": {},
   "outputs": [],
   "source": [
    "repo1 = {\n",
    "    \"owner\": \"OwaisNoor000\",\n",
    "    \"name\": \"MySensayClone\",\n",
    "    \"inc_dir\": [\"face\", \"rag\",\"websockets\"],\n",
    "    \"inc_ext\": [\".py\"],\n",
    "    \"branch\": \"main\",\n",
    "}"
   ]
  },
  {
   "cell_type": "code",
   "execution_count": null,
   "id": "29a85214",
   "metadata": {},
   "outputs": [],
   "source": [
    "llama_repo = Repo(**repo1)\n",
    "llama_repo.load(force_reload=True)"
   ]
  },
  {
   "cell_type": "code",
   "execution_count": null,
   "id": "1c82400f",
   "metadata": {},
   "outputs": [],
   "source": [
    "llama_repo.query(\"How does this application utilize web sockets?\")"
   ]
  },
  {
   "cell_type": "code",
   "execution_count": 1,
   "id": "a70c0c26",
   "metadata": {},
   "outputs": [],
   "source": [
    "from  supabasedb.MeetingRequestsDao import MeetingRequestsDao\n",
    "from supabasedb.MeetingRequests import MeetingRequests"
   ]
  },
  {
   "cell_type": "code",
   "execution_count": 2,
   "id": "5c29ecb9",
   "metadata": {},
   "outputs": [],
   "source": [
    "\n",
    "dao = MeetingRequestsDao()\n",
    "meetingRequest = MeetingRequests(\"Testing\")"
   ]
  },
  {
   "cell_type": "code",
   "execution_count": 3,
   "id": "52036b71",
   "metadata": {},
   "outputs": [
    {
     "name": "stdout",
     "output_type": "stream",
     "text": [
      "DEBUG: Operation failed\n",
      "{'message': 'new row violates row-level security policy for table \"MeetingRequests\"', 'code': '42501', 'hint': None, 'details': None}\n"
     ]
    }
   ],
   "source": [
    "dao.create(meetingRequest)"
   ]
  },
  {
   "cell_type": "code",
   "execution_count": 4,
   "id": "4033f4d3",
   "metadata": {},
   "outputs": [
    {
     "ename": "AttributeError",
     "evalue": "module 'supabase' has no attribute 'auth'",
     "output_type": "error",
     "traceback": [
      "\u001b[31m---------------------------------------------------------------------------\u001b[39m",
      "\u001b[31mAttributeError\u001b[39m                            Traceback (most recent call last)",
      "\u001b[36mCell\u001b[39m\u001b[36m \u001b[39m\u001b[32mIn[4]\u001b[39m\u001b[32m, line 2\u001b[39m\n\u001b[32m      1\u001b[39m \u001b[38;5;28;01mimport\u001b[39;00m\u001b[38;5;250m \u001b[39m\u001b[34;01msupabase\u001b[39;00m\n\u001b[32m----> \u001b[39m\u001b[32m2\u001b[39m \u001b[43msupabase\u001b[49m\u001b[43m.\u001b[49m\u001b[43mauth\u001b[49m.sign_in_with_password({\n\u001b[32m      3\u001b[39m     \u001b[33m\"\u001b[39m\u001b[33memail\u001b[39m\u001b[33m\"\u001b[39m:\u001b[33m\"\u001b[39m\u001b[33mmowaisnoor000@gmail\u001b[39m\u001b[33m\"\u001b[39m,\n\u001b[32m      4\u001b[39m     \u001b[33m\"\u001b[39m\u001b[33mpassword\u001b[39m\u001b[33m\"\u001b[39m:\u001b[33m\"\u001b[39m\u001b[33mPa$$w0rd=0wais\u001b[39m\u001b[33m\"\u001b[39m\n\u001b[32m      5\u001b[39m })\n",
      "\u001b[31mAttributeError\u001b[39m: module 'supabase' has no attribute 'auth'"
     ]
    }
   ],
   "source": [
    "import supabase\n",
    "supabase.auth.sign_in_with_password({\n",
    "    \"email\":\"mowaisnoor000@gmail\",\n",
    "    \"password\":\"Pa$$w0rd=0wais\"\n",
    "})"
   ]
  }
 ],
 "metadata": {
  "kernelspec": {
   "display_name": "venv",
   "language": "python",
   "name": "python3"
  },
  "language_info": {
   "codemirror_mode": {
    "name": "ipython",
    "version": 3
   },
   "file_extension": ".py",
   "mimetype": "text/x-python",
   "name": "python",
   "nbconvert_exporter": "python",
   "pygments_lexer": "ipython3",
   "version": "3.12.6"
  }
 },
 "nbformat": 4,
 "nbformat_minor": 5
}
