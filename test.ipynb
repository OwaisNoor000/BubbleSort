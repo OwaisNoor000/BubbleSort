{
 "cells": [
  {
   "cell_type": "code",
   "execution_count": 1,
   "id": "204b0025",
   "metadata": {},
   "outputs": [
    {
     "name": "stderr",
     "output_type": "stream",
     "text": [
      "c:\\Users\\mowai\\Documents\\Projects\\Job Applications\\Sensay Ai Clone\\venv\\Lib\\site-packages\\tqdm\\auto.py:21: TqdmWarning: IProgress not found. Please update jupyter and ipywidgets. See https://ipywidgets.readthedocs.io/en/stable/user_install.html\n",
      "  from .autonotebook import tqdm as notebook_tqdm\n"
     ]
    },
    {
     "name": "stdout",
     "output_type": "stream",
     "text": [
      "Initializing indexes,llm and embeddings\n",
      "generating LLMs\n",
      "Querying the LLM\n",
      "Batch.py appears to be a script that preprocesses books by converting their EPUB pages into images, performing Optical Character Recognition (OCR) on these images to extract text, generating speech with time stamps and sentence labeling, and syncing this speech with the extracted text. \n",
      "\n",
      "However, it does not provide information about specific books such as Jip&Janneke, including the number of preprocessed pages. It seems that Batch.py is designed to process all unprocessed EPUB books in a folder named \"EPUB\" by applying a series of operations.\n",
      "\n",
      "BatchThread.py appears to be an alternative implementation of Batch.py, which also processes books but might provide more detailed information about the processing steps due to the use of multithreading.\n"
     ]
    }
   ],
   "source": [
    "from rag.engines.GithubEngine import GithubEngine\n",
    "\n",
    "query_engine = GithubEngine()\n",
    "query_engine.create_engine()\n",
    "response = query_engine.answer(\"What does Batch.py do? and also, how many preprocessed pages does the book Jip&Janneke have?\")\n",
    "print(response)\n"
   ]
  },
  {
   "cell_type": "code",
   "execution_count": 2,
   "id": "2c4c22f9",
   "metadata": {},
   "outputs": [
    {
     "name": "stdout",
     "output_type": "stream",
     "text": [
      "Querying the LLM\n"
     ]
    },
    {
     "data": {
      "text/plain": [
       "'The `EpubProcessor` class is a crucial component in the batch processing workflow of the EPUB reader application. It is responsible for extracting various metadata and content from an EPUB file.\\n\\nHere\\'s a detailed explanation of the key methods and functionalities:\\n\\n1. **Initialization**: When an instance of the `EpubProcessor` class is created, it takes the book name (without the `.epub` extension) as input. This book name is used to construct the full path to the EPUB file.\\n\\n   ```python\\nepub_processor = EpubProcessor(f\"EPUB/{bookName}.epub\")\\n```\\n\\n2. **Conversion**: The `convert()` method extracts the contents of the EPUB file and processes it further for OCR (Optical Character Recognition) and speech generation.\\n\\n   ```\\nepub_processor.convert()\\n```\\n\\n3. **Saving as Images**: After conversion, the extracted content is saved as images. This step likely prepares the images for OCR processing.\\n\\n   ```python\\nepub_processor.saveAsImg()\\n```\\n\\n4. **Extracting EPUB Contents**: The `extract_epub_contents()` method extracts the contents of an EPUB file and returns three values:\\n    - `ncx_name`: The name of the NCX (Navigation Content) file, which contains a table of contents.\\n    - `opf_name`: The name of the OPF (Open Packaging Format) file, which contains metadata about the book.\\n    - A list of page indices.\\n\\n   ```python\\nncx_name = epub_processor.extract_epub_contents(epub)[2]\\nopf_name = epub_processor.extract_epub_contents(epub)[3]\\npage_index = epub_processor.extract_epub_index(epub, page_names, ncx_name)\\n```\\n\\n5. **Extracting EPUB Metadata**: The `extract_epub_metadata()` method extracts metadata from an OPF file and returns a dictionary containing the extracted metadata.\\n\\n   ```python\\nepub_metadata = epub_processor.extract_epub_metadata(epub, opf_name)\\n```\\n\\nIn summary, the `EpubProcessor` class plays a crucial role in extracting and processing EPUB files for OCR and speech generation. It provides methods to convert EPUB files into images, extract page indices, metadata, and save the extracted content as images or text files.'"
      ]
     },
     "execution_count": 2,
     "metadata": {},
     "output_type": "execute_result"
    }
   ],
   "source": [
    "response = query_engine.answer(\"Explain the code in EPubProcessor.py in detail\")\n",
    "response"
   ]
  },
  {
   "cell_type": "code",
   "execution_count": 3,
   "id": "4f37a6ae",
   "metadata": {},
   "outputs": [
    {
     "name": "stdout",
     "output_type": "stream",
     "text": [
      "The `EpubProcessor` class is a crucial component in the batch processing workflow of the EPUB reader application. It is responsible for extracting various metadata and content from an EPUB file.\n",
      "\n",
      "Here's a detailed explanation of the key methods and functionalities:\n",
      "\n",
      "1. **Initialization**: When an instance of the `EpubProcessor` class is created, it takes the book name (without the `.epub` extension) as input. This book name is used to construct the full path to the EPUB file.\n",
      "\n",
      "   ```python\n",
      "epub_processor = EpubProcessor(f\"EPUB/{bookName}.epub\")\n",
      "```\n",
      "\n",
      "2. **Conversion**: The `convert()` method extracts the contents of the EPUB file and processes it further for OCR (Optical Character Recognition) and speech generation.\n",
      "\n",
      "   ```\n",
      "epub_processor.convert()\n",
      "```\n",
      "\n",
      "3. **Saving as Images**: After conversion, the extracted content is saved as images. This step likely prepares the images for OCR processing.\n",
      "\n",
      "   ```python\n",
      "epub_processor.saveAsImg()\n",
      "```\n",
      "\n",
      "4. **Extracting EPUB Contents**: The `extract_epub_contents()` method extracts the contents of an EPUB file and returns three values:\n",
      "    - `ncx_name`: The name of the NCX (Navigation Content) file, which contains a table of contents.\n",
      "    - `opf_name`: The name of the OPF (Open Packaging Format) file, which contains metadata about the book.\n",
      "    - A list of page indices.\n",
      "\n",
      "   ```python\n",
      "ncx_name = epub_processor.extract_epub_contents(epub)[2]\n",
      "opf_name = epub_processor.extract_epub_contents(epub)[3]\n",
      "page_index = epub_processor.extract_epub_index(epub, page_names, ncx_name)\n",
      "```\n",
      "\n",
      "5. **Extracting EPUB Metadata**: The `extract_epub_metadata()` method extracts metadata from an OPF file and returns a dictionary containing the extracted metadata.\n",
      "\n",
      "   ```python\n",
      "epub_metadata = epub_processor.extract_epub_metadata(epub, opf_name)\n",
      "```\n",
      "\n",
      "In summary, the `EpubProcessor` class plays a crucial role in extracting and processing EPUB files for OCR and speech generation. It provides methods to convert EPUB files into images, extract page indices, metadata, and save the extracted content as images or text files.\n"
     ]
    }
   ],
   "source": [
    "print(response)"
   ]
  }
 ],
 "metadata": {
  "kernelspec": {
   "display_name": "venv",
   "language": "python",
   "name": "python3"
  },
  "language_info": {
   "codemirror_mode": {
    "name": "ipython",
    "version": 3
   },
   "file_extension": ".py",
   "mimetype": "text/x-python",
   "name": "python",
   "nbconvert_exporter": "python",
   "pygments_lexer": "ipython3",
   "version": "3.12.6"
  }
 },
 "nbformat": 4,
 "nbformat_minor": 5
}
